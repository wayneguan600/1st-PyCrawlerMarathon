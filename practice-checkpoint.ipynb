{
 "cells": [
  {
   "cell_type": "markdown",
   "metadata": {},
   "source": [
    "# 銷售行為分析\n",
    "\n",
    "你剛接手超商的店長職位，為了想要了解顧客的銷售行為，打算打造一個系統來搜集並且分析資料。\n",
    "\n",
    "在這個系統中，你會紀錄每個顧客的性別與年齡層，以及所購買的所有商品，希望能夠透過這些資料來進行銷售行為與顧客的分析。"
   ]
  },
  {
   "cell_type": "code",
   "execution_count": 60,
   "metadata": {},
   "outputs": [],
   "source": [
    "# 商品結構\n",
    "# p001 為商品編號\n",
    "items = {\n",
    "    \"p001\": {\n",
    "        \"name\": \"番茄\",\n",
    "        \"categories\": [\"fruit\", \"vegetable\"],\n",
    "        \"price\": 32,\n",
    "        \"calories\": 123\n",
    "    },\n",
    "    \"p002\": {\n",
    "        \"name\": \"西瓜\",\n",
    "        \"categories\": [\"fruit\"],\n",
    "        \"price\": 123,\n",
    "        \"calories\": 22        \n",
    "    }\n",
    "}\n",
    "\n",
    "\n",
    "# 訂單結構\n",
    "# age: 10(10歲以下), 20(10-20歲), 30, 40, 50, 60, 99(目測超過60歲), -1(無法目測歲數)\n",
    "# gender: 0(男生), 1(女生)\n",
    "orders = [\n",
    "    {\n",
    "        \"time\": \"2020-03-01 12:00:12\",\n",
    "        \"customer\": {\n",
    "            \"age\": 20, \n",
    "            \"gender\": 0,\n",
    "        },\n",
    "        \"items\": [\n",
    "            \"p001\",  # 編號 p001 買 1 個\n",
    "            \"p002\",  # 編號 p002 買 3 個\n",
    "            \"p002\",\n",
    "            \"p002\",\n",
    "        ]\n",
    "    },\n",
    "    {\n",
    "        \"time\": \"2020-03-01 12:00:12\",\n",
    "        \"customer\": {\n",
    "            \"age\": -1,\n",
    "            \"gender\": 0,\n",
    "        },\n",
    "        \"items\": [\n",
    "            \"p001\",  # 編號 p001 買 1 個\n",
    "        ]\n",
    "    },\n",
    "]"
   ]
  },
  {
   "cell_type": "markdown",
   "metadata": {},
   "source": [
    "此為產生假資料的腳本，請務必執行～"
   ]
  },
  {
   "cell_type": "code",
   "execution_count": 1,
   "metadata": {
    "jupyter": {
     "source_hidden": true
    }
   },
   "outputs": [],
   "source": [
    "import string\n",
    "from datetime import datetime\n",
    "from random import randint, choice\n",
    "\n",
    "NUM_ITEMS = 50\n",
    "NUM_ORDERS = 10000\n",
    "GENDERS = [0, 1]\n",
    "AGES = [-1, 99, 10, 20, 30, 40, 50, 60]\n",
    "CATEGORIES = ['fruit', 'vegetable', 'drink', 'meat', 'bread']\n",
    "items = { \n",
    "    \"p{:03d}\".format(idx): {\n",
    "        \"name\": ''.join([choice(string.ascii_letters) for _ in range(randint(5, 10))]),\n",
    "        \"categories\": [choice(CATEGORIES) for _ in range(randint(1, 3))],\n",
    "        \"price\": randint(10, 500),\n",
    "        \"calories\": randint(50, 1000)\n",
    "    } \n",
    "    for idx in range(NUM_ITEMS)\n",
    "}\n",
    "\n",
    "now = datetime.now().timestamp()\n",
    "orders = [\n",
    "    {\n",
    "        \"time\": datetime.fromtimestamp(now - randint(0, 86400 * 30)).strftime('%Y-%m-%d %H:%M:%S'),\n",
    "        \"customer\": {\n",
    "            \"age\": choice(AGES),\n",
    "            \"gender\": choice(GENDERS),\n",
    "        },\n",
    "        \"items\": [choice(list(items.keys())) for _ in range(randint(1, 10))]\n",
    "    }\n",
    "    for idx in range(NUM_ORDERS)\n",
    "]"
   ]
  },
  {
   "cell_type": "markdown",
   "metadata": {},
   "source": [
    "## Q1 所有訂單的銷售總額？"
   ]
  },
  {
   "cell_type": "code",
   "execution_count": 7,
   "metadata": {},
   "outputs": [
    {
     "data": {
      "text/plain": [
       "116"
      ]
     },
     "execution_count": 7,
     "metadata": {},
     "output_type": "execute_result"
    }
   ],
   "source": [
    "items[\"p001\"][\"price\"]"
   ]
  },
  {
   "cell_type": "code",
   "execution_count": 15,
   "metadata": {},
   "outputs": [
    {
     "name": "stdout",
     "output_type": "stream",
     "text": [
      "14399020 14399020\n"
     ]
    }
   ],
   "source": [
    "# imperative\n",
    "total_price = 0\n",
    "for order in orders:\n",
    "    order_items = order[\"items\"]\n",
    "    for item_id in order_items:\n",
    "        total_price = total_price + items[item_id][\"price\"]\n",
    "\n",
    "# declarative\n",
    "total_price_declarative = sum([\n",
    "    items[item_id][\"price\"]\n",
    "    for order in orders\n",
    "    for item_id in order[\"items\"]\n",
    "])\n",
    "\n",
    "print(total_price, total_price_declarative)"
   ]
  },
  {
   "cell_type": "markdown",
   "metadata": {},
   "source": [
    "## Q2 最熱賣的十項商品為何？"
   ]
  },
  {
   "cell_type": "markdown",
   "metadata": {},
   "source": [
    "## Q3 總熱量最低的訂單總熱量為何？"
   ]
  },
  {
   "cell_type": "markdown",
   "metadata": {},
   "source": [
    "## Q4 青少年(10-30歲) 最愛的商品為何？"
   ]
  },
  {
   "cell_type": "markdown",
   "metadata": {},
   "source": [
    "## Q5 男性最愛的類別為何？\n"
   ]
  },
  {
   "cell_type": "markdown",
   "metadata": {},
   "source": [
    "## Q6 女性平均每筆訂單金額為何？"
   ]
  },
  {
   "cell_type": "markdown",
   "metadata": {},
   "source": [
    "## Q7 飲料類別中，各年齡層的消費力為何？\n",
    "消費力 = 消費金額總數，假設現在有三筆訂單：\n",
    "\n",
    "1. age(20), 番茄、牛奶(100)\n",
    "2. age(10), 奶茶(30)\n",
    "3. age(10), 果汁(15)、紅茶(20)\n",
    "\n",
    "因為番茄沒有飲料的類別，所以濾掉不計\n",
    "\n",
    "* age: 20 的消費力 = 100\n",
    "* age: 10 的消費力 = 30 + 15 + 20 = 65"
   ]
  },
  {
   "cell_type": "markdown",
   "metadata": {},
   "source": [
    "## Q8 商品 p000 最常跟哪個商品一起購買？"
   ]
  },
  {
   "cell_type": "markdown",
   "metadata": {},
   "source": [
    "## Q9 每個商品的男性購買力與女性購買力各自為何？"
   ]
  }
 ],
 "metadata": {
  "kernelspec": {
   "display_name": "Python 3",
   "language": "python",
   "name": "python3"
  },
  "language_info": {
   "codemirror_mode": {
    "name": "ipython",
    "version": 3
   },
   "file_extension": ".py",
   "mimetype": "text/x-python",
   "name": "python",
   "nbconvert_exporter": "python",
   "pygments_lexer": "ipython3",
   "version": "3.7.6"
  }
 },
 "nbformat": 4,
 "nbformat_minor": 4
}
