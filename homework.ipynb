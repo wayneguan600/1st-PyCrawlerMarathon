{
 "cells": [
  {
   "cell_type": "code",
   "execution_count": 37,
   "metadata": {},
   "outputs": [],
   "source": [
    "posts = [\n",
    "    {\n",
    "        'id': '001',\n",
    "        'title': '如何成為好人',\n",
    "        'tags': ['life', 'people'],\n",
    "        'views': 100\n",
    "    },\n",
    "    {\n",
    "        'id': '002',\n",
    "        'title': '如何不工作',\n",
    "        'tags': ['work', 'people'],\n",
    "        'views': 1000\n",
    "    },\n",
    "    {\n",
    "        'id': '003',\n",
    "        'title': '如何睡好覺',\n",
    "        'tags': ['sleep', 'life', 'people'],\n",
    "        'views': 500\n",
    "    },\n",
    "    {\n",
    "        'id': '004',\n",
    "        'title': '如何變強',\n",
    "        'tags': ['work', 'life', 'people'],\n",
    "        'views': 50\n",
    "    },\n",
    "    {\n",
    "        'id': '005',\n",
    "        'title': '如何睡好覺II',\n",
    "        'tags': ['sleep', 'life', 'people'],\n",
    "        'views': 500\n",
    "    },\n",
    "]"
   ]
  },
  {
   "cell_type": "markdown",
   "metadata": {},
   "source": [
    "### 計算文章的平均瀏覽數"
   ]
  },
  {
   "cell_type": "markdown",
   "metadata": {},
   "source": [
    "### 找出瀏覽數超過 200 的文章標題"
   ]
  },
  {
   "cell_type": "markdown",
   "metadata": {},
   "source": [
    "### 找出所有的 tag"
   ]
  },
  {
   "cell_type": "markdown",
   "metadata": {},
   "source": [
    "### 將瀏覽數超過 200 的標記為「爆」，其他為「普」，並統計「普」跟「爆」的數量"
   ]
  },
  {
   "cell_type": "markdown",
   "metadata": {},
   "source": [
    "### 列出瀏覽數最低的三篇文章標題"
   ]
  }
 ],
 "metadata": {
  "kernelspec": {
   "display_name": "Python 3",
   "language": "python",
   "name": "python3"
  },
  "language_info": {
   "codemirror_mode": {
    "name": "ipython",
    "version": 3
   },
   "file_extension": ".py",
   "mimetype": "text/x-python",
   "name": "python",
   "nbconvert_exporter": "python",
   "pygments_lexer": "ipython3",
   "version": "3.7.6"
  }
 },
 "nbformat": 4,
 "nbformat_minor": 4
}
